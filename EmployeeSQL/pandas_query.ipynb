{
 "cells": [
  {
   "cell_type": "code",
   "execution_count": 7,
   "metadata": {},
   "outputs": [],
   "source": [
    "# Pandas\n",
    "import pandas as pd\n",
    "\n",
    "# SQL Alchemy\n",
    "from sqlalchemy import create_engine\n",
    "from config import username , password\n",
    "import matplotlib.pyplot as plt\n",
    "import numpy as np"
   ]
  },
  {
   "cell_type": "code",
   "execution_count": 8,
   "metadata": {},
   "outputs": [],
   "source": [
    "# Connecting to postgres database\n",
    "\n",
    "dbname='data_modeling_db'\n",
    "servername='localhost'\n",
    "port=5432\n",
    "conn = f'postgres://{username}:{password}@{servername}:{port}/{dbname}'\n",
    "engine = create_engine(conn , echo = False)\n",
    "connect = engine.connect()"
   ]
  },
  {
   "cell_type": "code",
   "execution_count": 9,
   "metadata": {},
   "outputs": [],
   "source": [
    "# Reading data from postgres and converting into pandas dataframe\n",
    "\n",
    "salaries_df = pd.read_sql(\"SELECT * FROM salaries\", conn)"
   ]
  },
  {
   "cell_type": "code",
   "execution_count": 14,
   "metadata": {},
   "outputs": [
    {
     "data": {
      "image/png": "[encoded data removed]",
      "text/plain": [
       "<Figure size 432x288 with 1 Axes>"
      ]
     },
     "metadata": {
      "needs_background": "light"
     },
     "output_type": "display_data"
    }
   ],
   "source": [
    "# Generating histogram\n",
    "\n",
    "plt.hist(salaries_df.loc[:, 'salary'],50,density=True, facecolor='cornflowerblue', alpha=0.9)\n",
    "plt.xlabel('Salary')\n",
    "plt.ylabel('Probability')\n",
    "plt.title('Histogram of Salaries')\n",
    "plt.show()"
   ]
  },
  {
   "cell_type": "code",
   "execution_count": 53,
   "metadata": {},
   "outputs": [
    {
     "data": {
      "text/html": [
       "<div>\n",
       "<style scoped>\n",
       "    .dataframe tbody tr th:only-of-type {\n",
       "        vertical-align: middle;\n",
       "    }\n",
       "\n",
       "    .dataframe tbody tr th {\n",
       "        vertical-align: top;\n",
       "    }\n",
       "\n",
       "    .dataframe thead th {\n",
       "        text-align: right;\n",
       "    }\n",
       "</style>\n",
       "<table border=\"1\" class=\"dataframe\">\n",
       "  <thead>\n",
       "    <tr style=\"text-align: right;\">\n",
       "      <th></th>\n",
       "      <th>title</th>\n",
       "      <th>round</th>\n",
       "    </tr>\n",
       "  </thead>\n",
       "  <tbody>\n",
       "    <tr>\n",
       "      <th>0</th>\n",
       "      <td>Assistant Engineer</td>\n",
       "      <td>48564</td>\n",
       "    </tr>\n",
       "    <tr>\n",
       "      <th>1</th>\n",
       "      <td>Engineer</td>\n",
       "      <td>48535</td>\n",
       "    </tr>\n",
       "    <tr>\n",
       "      <th>2</th>\n",
       "      <td>Manager</td>\n",
       "      <td>51531</td>\n",
       "    </tr>\n",
       "    <tr>\n",
       "      <th>3</th>\n",
       "      <td>Senior Engineer</td>\n",
       "      <td>48507</td>\n",
       "    </tr>\n",
       "    <tr>\n",
       "      <th>4</th>\n",
       "      <td>Senior Staff</td>\n",
       "      <td>58550</td>\n",
       "    </tr>\n",
       "    <tr>\n",
       "      <th>5</th>\n",
       "      <td>Staff</td>\n",
       "      <td>58465</td>\n",
       "    </tr>\n",
       "    <tr>\n",
       "      <th>6</th>\n",
       "      <td>Technique Leader</td>\n",
       "      <td>48583</td>\n",
       "    </tr>\n",
       "  </tbody>\n",
       "</table>\n",
       "</div>"
      ],
      "text/plain": [
       "                title  round\n",
       "0  Assistant Engineer  48564\n",
       "1            Engineer  48535\n",
       "2             Manager  51531\n",
       "3     Senior Engineer  48507\n",
       "4        Senior Staff  58550\n",
       "5               Staff  58465\n",
       "6    Technique Leader  48583"
      ]
     },
     "execution_count": 53,
     "metadata": {},
     "output_type": "execute_result"
    }
   ],
   "source": [
    "# Reading data from postgres and converting into pandas dataframe\n",
    "\n",
    "avg_salary_by_title_df = pd.read_sql('select * from avg_salary_by_title', conn)\n",
    "\n",
    "avg_salary_by_title_df['round'] = avg_salary_by_title_df['round'].round().astype(int)\n",
    "\n",
    "avg_salary_by_title_df"
   ]
  },
  {
   "cell_type": "code",
   "execution_count": 54,
   "metadata": {},
   "outputs": [],
   "source": [
    "# Preparing dataframe for bar chart\n",
    "\n",
    "indexed_avg_salary_by_title_df = avg_salary_by_title_df.set_index('title')\n",
    "\n",
    "indexed_avg_salary_by_title_df = indexed_avg_salary_by_title_df['round'].sort_values(ascending=False)"
   ]
  },
  {
   "cell_type": "code",
   "execution_count": 56,
   "metadata": {},
   "outputs": [
    {
     "data": {
      "image/png": "[encoded data removed]",
      "text/plain": [
       "<Figure size 432x288 with 1 Axes>"
      ]
     },
     "metadata": {
      "needs_background": "light"
     },
     "output_type": "display_data"
    }
   ],
   "source": [
    "# Generating bar chart\n",
    "\n",
    "fig, ax = plt.subplots()\n",
    "\n",
    "x_axis = np.arange(len(indexed_avg_salary_by_title_df))\n",
    "\n",
    "tick_locations = [value for value in x_axis]\n",
    "plt.xticks(tick_locations, indexed_avg_salary_by_title_df.keys(), rotation=90)\n",
    "\n",
    "y_axis = indexed_avg_salary_by_title_df.values\n",
    "\n",
    "\n",
    "rects1 = ax.bar(x_axis, y_axis, color=\"cornflowerblue\", alpha=0.75, align=\"center\",  width=0.65)\n",
    "\n",
    "ax.set_ylabel('Salary')\n",
    "ax.set_title('Avg Salary by Title')\n",
    "ax.set_xlabel('Title')\n",
    "ax.set_ylim(0,indexed_avg_salary_by_title_df.values.max()+10000)\n",
    "\n",
    "\n",
    "def autolabel(rects):\n",
    "    # Attach a text label above each bar in *rects*, displaying its height.\n",
    "    for rect in rects:\n",
    "        height = rect.get_height()\n",
    "        ax.annotate('{}'.format(height),\n",
    "                    xy=(rect.get_x() + rect.get_width() / 2, height),\n",
    "                    xytext=(0, 2),  \n",
    "                    textcoords=\"offset points\",\n",
    "                    ha='center', va='bottom')\n",
    "\n",
    "\n",
    "autolabel(rects1)\n",
    "\n",
    "plt.show()"
   ]
  },
  {
   "cell_type": "code",
   "execution_count": null,
   "metadata": {},
   "outputs": [],
   "source": []
  }
 ],
 "metadata": {
  "kernelspec": {
   "display_name": "Python 3",
   "language": "python",
   "name": "python3"
  },
  "language_info": {
   "codemirror_mode": {
    "name": "ipython",
    "version": 3
   },
   "file_extension": ".py",
   "mimetype": "text/x-python",
   "name": "python",
   "nbconvert_exporter": "python",
   "pygments_lexer": "ipython3",
   "version": "3.8.3"
  }
 },
 "nbformat": 4,
 "nbformat_minor": 4
}
